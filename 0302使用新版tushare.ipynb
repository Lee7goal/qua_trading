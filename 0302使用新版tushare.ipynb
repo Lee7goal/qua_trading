{
 "cells": [
  {
   "cell_type": "code",
   "execution_count": 12,
   "metadata": {
    "collapsed": true,
    "pycharm": {
     "is_executing": false
    }
   },
   "outputs": [],
   "source": [
    "import tushare as ts"
   ]
  },
  {
   "cell_type": "code",
   "execution_count": 13,
   "outputs": [],
   "source": [
    "pro = ts.pro_api('*')"
   ],
   "metadata": {
    "collapsed": false,
    "pycharm": {
     "name": "#%%\n",
     "is_executing": false
    }
   }
  },
  {
   "cell_type": "code",
   "execution_count": 16,
   "outputs": [
    {
     "data": {
      "text/plain": "      ts_code trade_date   open   high    low  close  pre_close  change  \\\n0   000001.SZ   20200228  14.85  15.04  14.46  14.50      15.11   -0.61   \n1   000001.SZ   20200227  14.96  15.15  14.89  15.11      14.99    0.12   \n2   000001.SZ   20200226  14.77  15.27  14.70  14.99      15.04   -0.05   \n3   000001.SZ   20200225  15.00  15.13  14.78  15.04      15.23   -0.19   \n4   000001.SZ   20200224  15.46  15.46  15.15  15.23      15.58   -0.35   \n5   000001.SZ   20200221  15.49  15.72  15.45  15.58      15.59   -0.01   \n6   000001.SZ   20200220  15.27  15.62  15.10  15.59      15.24    0.35   \n7   000001.SZ   20200219  15.10  15.37  15.08  15.24      15.20    0.04   \n8   000001.SZ   20200218  15.33  15.33  15.01  15.20      15.37   -0.17   \n9   000001.SZ   20200217  15.04  15.37  14.93  15.37      15.03    0.34   \n10  000001.SZ   20200214  14.75  15.14  14.70  15.03      14.65    0.38   \n11  000001.SZ   20200213  14.71  14.88  14.61  14.65      14.77   -0.12   \n12  000001.SZ   20200212  14.79  14.82  14.60  14.77      14.79   -0.02   \n13  000001.SZ   20200211  14.60  14.94  14.56  14.79      14.50    0.29   \n14  000001.SZ   20200210  14.51  14.53  14.30  14.50      14.62   -0.12   \n15  000001.SZ   20200207  14.60  14.69  14.41  14.62      14.77   -0.15   \n16  000001.SZ   20200206  14.81  14.87  14.51  14.77      14.63    0.14   \n17  000001.SZ   20200205  14.59  14.89  14.32  14.63      14.60    0.03   \n18  000001.SZ   20200204  14.05  14.66  14.02  14.60      13.99    0.61   \n19  000001.SZ   20200203  13.99  14.70  13.99  13.99      15.54   -1.55   \n20  000001.SZ   20200123  15.92  15.92  15.39  15.54      16.09   -0.55   \n21  000001.SZ   20200122  15.92  16.16  15.71  16.09      16.00    0.09   \n22  000001.SZ   20200121  16.34  16.34  15.93  16.00      16.45   -0.45   \n23  000001.SZ   20200120  16.43  16.61  16.35  16.45      16.39    0.06   \n24  000001.SZ   20200117  16.38  16.55  16.35  16.39      16.33    0.06   \n25  000001.SZ   20200116  16.52  16.57  16.20  16.33      16.52   -0.19   \n26  000001.SZ   20200115  16.79  16.86  16.45  16.52      16.76   -0.24   \n27  000001.SZ   20200114  16.99  17.27  16.76  16.76      16.99   -0.23   \n28  000001.SZ   20200113  16.75  17.03  16.61  16.99      16.69    0.30   \n29  000001.SZ   20200110  16.79  16.81  16.52  16.69      16.79   -0.10   \n30  000001.SZ   20200109  16.81  16.93  16.53  16.79      16.66    0.13   \n31  000001.SZ   20200108  17.00  17.05  16.63  16.66      17.15   -0.49   \n32  000001.SZ   20200107  17.13  17.28  16.95  17.15      17.07    0.08   \n33  000001.SZ   20200106  17.01  17.34  16.91  17.07      17.18   -0.11   \n34  000001.SZ   20200103  16.94  17.31  16.92  17.18      16.87    0.31   \n35  000001.SZ   20200102  16.65  16.95  16.55  16.87      16.45    0.42   \n\n    pct_chg         vol       amount  \n0   -4.0371  1300644.45  1906892.413  \n1    0.8005   975270.90  1464605.739  \n2   -0.3324  1176599.15  1769612.245  \n3   -1.2475  1144575.02  1710369.786  \n4   -2.2465  1191794.50  1820183.854  \n5   -0.0641   995071.02  1546692.930  \n6    2.2966  1235444.34  1897923.029  \n7    0.2632   874106.93  1333730.218  \n8   -1.1061   973612.35  1478274.222  \n9    2.2621  1543696.01  2337993.586  \n10   2.5939  1512434.73  2253906.452  \n11  -0.8125  1013205.28  1491327.713  \n12  -0.1352  1070503.21  1573229.042  \n13   2.0000  1407507.44  2077194.138  \n14  -0.8208  1339495.24  1931983.482  \n15  -1.0156   924852.96  1345053.255  \n16   0.9569  1185815.72  1740107.625  \n17   0.2055  1491380.21  2177632.043  \n18   4.3603  1706172.07  2442932.842  \n19  -9.9743  2259194.83  3201454.164  \n20  -3.4183  1100592.07  1723394.336  \n21   0.5625   719464.91  1150933.398  \n22  -2.7356   896603.10  1442171.431  \n23   0.3661   746074.75  1226464.649  \n24   0.3674   605436.69   995909.007  \n25  -1.1501  1028104.67  1678888.507  \n26  -1.4320   859439.12  1424889.228  \n27  -1.3537  1304493.66  2217608.852  \n28   1.7975   872133.36  1468271.683  \n29  -0.5956   585548.45   975154.818  \n30   0.7803  1031636.65  1725326.806  \n31  -2.8571   847824.12  1423608.811  \n32   0.4687   728607.56  1247047.135  \n33  -0.6403   862083.50  1477930.193  \n34   1.8376  1116194.81  1914495.474  \n35   2.5532  1530231.87  2571196.482  ",
      "text/html": "<div>\n<style scoped>\n    .dataframe tbody tr th:only-of-type {\n        vertical-align: middle;\n    }\n\n    .dataframe tbody tr th {\n        vertical-align: top;\n    }\n\n    .dataframe thead th {\n        text-align: right;\n    }\n</style>\n<table border=\"1\" class=\"dataframe\">\n  <thead>\n    <tr style=\"text-align: right;\">\n      <th></th>\n      <th>ts_code</th>\n      <th>trade_date</th>\n      <th>open</th>\n      <th>high</th>\n      <th>low</th>\n      <th>close</th>\n      <th>pre_close</th>\n      <th>change</th>\n      <th>pct_chg</th>\n      <th>vol</th>\n      <th>amount</th>\n    </tr>\n  </thead>\n  <tbody>\n    <tr>\n      <td>0</td>\n      <td>000001.SZ</td>\n      <td>20200228</td>\n      <td>14.85</td>\n      <td>15.04</td>\n      <td>14.46</td>\n      <td>14.50</td>\n      <td>15.11</td>\n      <td>-0.61</td>\n      <td>-4.0371</td>\n      <td>1300644.45</td>\n      <td>1906892.413</td>\n    </tr>\n    <tr>\n      <td>1</td>\n      <td>000001.SZ</td>\n      <td>20200227</td>\n      <td>14.96</td>\n      <td>15.15</td>\n      <td>14.89</td>\n      <td>15.11</td>\n      <td>14.99</td>\n      <td>0.12</td>\n      <td>0.8005</td>\n      <td>975270.90</td>\n      <td>1464605.739</td>\n    </tr>\n    <tr>\n      <td>2</td>\n      <td>000001.SZ</td>\n      <td>20200226</td>\n      <td>14.77</td>\n      <td>15.27</td>\n      <td>14.70</td>\n      <td>14.99</td>\n      <td>15.04</td>\n      <td>-0.05</td>\n      <td>-0.3324</td>\n      <td>1176599.15</td>\n      <td>1769612.245</td>\n    </tr>\n    <tr>\n      <td>3</td>\n      <td>000001.SZ</td>\n      <td>20200225</td>\n      <td>15.00</td>\n      <td>15.13</td>\n      <td>14.78</td>\n      <td>15.04</td>\n      <td>15.23</td>\n      <td>-0.19</td>\n      <td>-1.2475</td>\n      <td>1144575.02</td>\n      <td>1710369.786</td>\n    </tr>\n    <tr>\n      <td>4</td>\n      <td>000001.SZ</td>\n      <td>20200224</td>\n      <td>15.46</td>\n      <td>15.46</td>\n      <td>15.15</td>\n      <td>15.23</td>\n      <td>15.58</td>\n      <td>-0.35</td>\n      <td>-2.2465</td>\n      <td>1191794.50</td>\n      <td>1820183.854</td>\n    </tr>\n    <tr>\n      <td>5</td>\n      <td>000001.SZ</td>\n      <td>20200221</td>\n      <td>15.49</td>\n      <td>15.72</td>\n      <td>15.45</td>\n      <td>15.58</td>\n      <td>15.59</td>\n      <td>-0.01</td>\n      <td>-0.0641</td>\n      <td>995071.02</td>\n      <td>1546692.930</td>\n    </tr>\n    <tr>\n      <td>6</td>\n      <td>000001.SZ</td>\n      <td>20200220</td>\n      <td>15.27</td>\n      <td>15.62</td>\n      <td>15.10</td>\n      <td>15.59</td>\n      <td>15.24</td>\n      <td>0.35</td>\n      <td>2.2966</td>\n      <td>1235444.34</td>\n      <td>1897923.029</td>\n    </tr>\n    <tr>\n      <td>7</td>\n      <td>000001.SZ</td>\n      <td>20200219</td>\n      <td>15.10</td>\n      <td>15.37</td>\n      <td>15.08</td>\n      <td>15.24</td>\n      <td>15.20</td>\n      <td>0.04</td>\n      <td>0.2632</td>\n      <td>874106.93</td>\n      <td>1333730.218</td>\n    </tr>\n    <tr>\n      <td>8</td>\n      <td>000001.SZ</td>\n      <td>20200218</td>\n      <td>15.33</td>\n      <td>15.33</td>\n      <td>15.01</td>\n      <td>15.20</td>\n      <td>15.37</td>\n      <td>-0.17</td>\n      <td>-1.1061</td>\n      <td>973612.35</td>\n      <td>1478274.222</td>\n    </tr>\n    <tr>\n      <td>9</td>\n      <td>000001.SZ</td>\n      <td>20200217</td>\n      <td>15.04</td>\n      <td>15.37</td>\n      <td>14.93</td>\n      <td>15.37</td>\n      <td>15.03</td>\n      <td>0.34</td>\n      <td>2.2621</td>\n      <td>1543696.01</td>\n      <td>2337993.586</td>\n    </tr>\n    <tr>\n      <td>10</td>\n      <td>000001.SZ</td>\n      <td>20200214</td>\n      <td>14.75</td>\n      <td>15.14</td>\n      <td>14.70</td>\n      <td>15.03</td>\n      <td>14.65</td>\n      <td>0.38</td>\n      <td>2.5939</td>\n      <td>1512434.73</td>\n      <td>2253906.452</td>\n    </tr>\n    <tr>\n      <td>11</td>\n      <td>000001.SZ</td>\n      <td>20200213</td>\n      <td>14.71</td>\n      <td>14.88</td>\n      <td>14.61</td>\n      <td>14.65</td>\n      <td>14.77</td>\n      <td>-0.12</td>\n      <td>-0.8125</td>\n      <td>1013205.28</td>\n      <td>1491327.713</td>\n    </tr>\n    <tr>\n      <td>12</td>\n      <td>000001.SZ</td>\n      <td>20200212</td>\n      <td>14.79</td>\n      <td>14.82</td>\n      <td>14.60</td>\n      <td>14.77</td>\n      <td>14.79</td>\n      <td>-0.02</td>\n      <td>-0.1352</td>\n      <td>1070503.21</td>\n      <td>1573229.042</td>\n    </tr>\n    <tr>\n      <td>13</td>\n      <td>000001.SZ</td>\n      <td>20200211</td>\n      <td>14.60</td>\n      <td>14.94</td>\n      <td>14.56</td>\n      <td>14.79</td>\n      <td>14.50</td>\n      <td>0.29</td>\n      <td>2.0000</td>\n      <td>1407507.44</td>\n      <td>2077194.138</td>\n    </tr>\n    <tr>\n      <td>14</td>\n      <td>000001.SZ</td>\n      <td>20200210</td>\n      <td>14.51</td>\n      <td>14.53</td>\n      <td>14.30</td>\n      <td>14.50</td>\n      <td>14.62</td>\n      <td>-0.12</td>\n      <td>-0.8208</td>\n      <td>1339495.24</td>\n      <td>1931983.482</td>\n    </tr>\n    <tr>\n      <td>15</td>\n      <td>000001.SZ</td>\n      <td>20200207</td>\n      <td>14.60</td>\n      <td>14.69</td>\n      <td>14.41</td>\n      <td>14.62</td>\n      <td>14.77</td>\n      <td>-0.15</td>\n      <td>-1.0156</td>\n      <td>924852.96</td>\n      <td>1345053.255</td>\n    </tr>\n    <tr>\n      <td>16</td>\n      <td>000001.SZ</td>\n      <td>20200206</td>\n      <td>14.81</td>\n      <td>14.87</td>\n      <td>14.51</td>\n      <td>14.77</td>\n      <td>14.63</td>\n      <td>0.14</td>\n      <td>0.9569</td>\n      <td>1185815.72</td>\n      <td>1740107.625</td>\n    </tr>\n    <tr>\n      <td>17</td>\n      <td>000001.SZ</td>\n      <td>20200205</td>\n      <td>14.59</td>\n      <td>14.89</td>\n      <td>14.32</td>\n      <td>14.63</td>\n      <td>14.60</td>\n      <td>0.03</td>\n      <td>0.2055</td>\n      <td>1491380.21</td>\n      <td>2177632.043</td>\n    </tr>\n    <tr>\n      <td>18</td>\n      <td>000001.SZ</td>\n      <td>20200204</td>\n      <td>14.05</td>\n      <td>14.66</td>\n      <td>14.02</td>\n      <td>14.60</td>\n      <td>13.99</td>\n      <td>0.61</td>\n      <td>4.3603</td>\n      <td>1706172.07</td>\n      <td>2442932.842</td>\n    </tr>\n    <tr>\n      <td>19</td>\n      <td>000001.SZ</td>\n      <td>20200203</td>\n      <td>13.99</td>\n      <td>14.70</td>\n      <td>13.99</td>\n      <td>13.99</td>\n      <td>15.54</td>\n      <td>-1.55</td>\n      <td>-9.9743</td>\n      <td>2259194.83</td>\n      <td>3201454.164</td>\n    </tr>\n    <tr>\n      <td>20</td>\n      <td>000001.SZ</td>\n      <td>20200123</td>\n      <td>15.92</td>\n      <td>15.92</td>\n      <td>15.39</td>\n      <td>15.54</td>\n      <td>16.09</td>\n      <td>-0.55</td>\n      <td>-3.4183</td>\n      <td>1100592.07</td>\n      <td>1723394.336</td>\n    </tr>\n    <tr>\n      <td>21</td>\n      <td>000001.SZ</td>\n      <td>20200122</td>\n      <td>15.92</td>\n      <td>16.16</td>\n      <td>15.71</td>\n      <td>16.09</td>\n      <td>16.00</td>\n      <td>0.09</td>\n      <td>0.5625</td>\n      <td>719464.91</td>\n      <td>1150933.398</td>\n    </tr>\n    <tr>\n      <td>22</td>\n      <td>000001.SZ</td>\n      <td>20200121</td>\n      <td>16.34</td>\n      <td>16.34</td>\n      <td>15.93</td>\n      <td>16.00</td>\n      <td>16.45</td>\n      <td>-0.45</td>\n      <td>-2.7356</td>\n      <td>896603.10</td>\n      <td>1442171.431</td>\n    </tr>\n    <tr>\n      <td>23</td>\n      <td>000001.SZ</td>\n      <td>20200120</td>\n      <td>16.43</td>\n      <td>16.61</td>\n      <td>16.35</td>\n      <td>16.45</td>\n      <td>16.39</td>\n      <td>0.06</td>\n      <td>0.3661</td>\n      <td>746074.75</td>\n      <td>1226464.649</td>\n    </tr>\n    <tr>\n      <td>24</td>\n      <td>000001.SZ</td>\n      <td>20200117</td>\n      <td>16.38</td>\n      <td>16.55</td>\n      <td>16.35</td>\n      <td>16.39</td>\n      <td>16.33</td>\n      <td>0.06</td>\n      <td>0.3674</td>\n      <td>605436.69</td>\n      <td>995909.007</td>\n    </tr>\n    <tr>\n      <td>25</td>\n      <td>000001.SZ</td>\n      <td>20200116</td>\n      <td>16.52</td>\n      <td>16.57</td>\n      <td>16.20</td>\n      <td>16.33</td>\n      <td>16.52</td>\n      <td>-0.19</td>\n      <td>-1.1501</td>\n      <td>1028104.67</td>\n      <td>1678888.507</td>\n    </tr>\n    <tr>\n      <td>26</td>\n      <td>000001.SZ</td>\n      <td>20200115</td>\n      <td>16.79</td>\n      <td>16.86</td>\n      <td>16.45</td>\n      <td>16.52</td>\n      <td>16.76</td>\n      <td>-0.24</td>\n      <td>-1.4320</td>\n      <td>859439.12</td>\n      <td>1424889.228</td>\n    </tr>\n    <tr>\n      <td>27</td>\n      <td>000001.SZ</td>\n      <td>20200114</td>\n      <td>16.99</td>\n      <td>17.27</td>\n      <td>16.76</td>\n      <td>16.76</td>\n      <td>16.99</td>\n      <td>-0.23</td>\n      <td>-1.3537</td>\n      <td>1304493.66</td>\n      <td>2217608.852</td>\n    </tr>\n    <tr>\n      <td>28</td>\n      <td>000001.SZ</td>\n      <td>20200113</td>\n      <td>16.75</td>\n      <td>17.03</td>\n      <td>16.61</td>\n      <td>16.99</td>\n      <td>16.69</td>\n      <td>0.30</td>\n      <td>1.7975</td>\n      <td>872133.36</td>\n      <td>1468271.683</td>\n    </tr>\n    <tr>\n      <td>29</td>\n      <td>000001.SZ</td>\n      <td>20200110</td>\n      <td>16.79</td>\n      <td>16.81</td>\n      <td>16.52</td>\n      <td>16.69</td>\n      <td>16.79</td>\n      <td>-0.10</td>\n      <td>-0.5956</td>\n      <td>585548.45</td>\n      <td>975154.818</td>\n    </tr>\n    <tr>\n      <td>30</td>\n      <td>000001.SZ</td>\n      <td>20200109</td>\n      <td>16.81</td>\n      <td>16.93</td>\n      <td>16.53</td>\n      <td>16.79</td>\n      <td>16.66</td>\n      <td>0.13</td>\n      <td>0.7803</td>\n      <td>1031636.65</td>\n      <td>1725326.806</td>\n    </tr>\n    <tr>\n      <td>31</td>\n      <td>000001.SZ</td>\n      <td>20200108</td>\n      <td>17.00</td>\n      <td>17.05</td>\n      <td>16.63</td>\n      <td>16.66</td>\n      <td>17.15</td>\n      <td>-0.49</td>\n      <td>-2.8571</td>\n      <td>847824.12</td>\n      <td>1423608.811</td>\n    </tr>\n    <tr>\n      <td>32</td>\n      <td>000001.SZ</td>\n      <td>20200107</td>\n      <td>17.13</td>\n      <td>17.28</td>\n      <td>16.95</td>\n      <td>17.15</td>\n      <td>17.07</td>\n      <td>0.08</td>\n      <td>0.4687</td>\n      <td>728607.56</td>\n      <td>1247047.135</td>\n    </tr>\n    <tr>\n      <td>33</td>\n      <td>000001.SZ</td>\n      <td>20200106</td>\n      <td>17.01</td>\n      <td>17.34</td>\n      <td>16.91</td>\n      <td>17.07</td>\n      <td>17.18</td>\n      <td>-0.11</td>\n      <td>-0.6403</td>\n      <td>862083.50</td>\n      <td>1477930.193</td>\n    </tr>\n    <tr>\n      <td>34</td>\n      <td>000001.SZ</td>\n      <td>20200103</td>\n      <td>16.94</td>\n      <td>17.31</td>\n      <td>16.92</td>\n      <td>17.18</td>\n      <td>16.87</td>\n      <td>0.31</td>\n      <td>1.8376</td>\n      <td>1116194.81</td>\n      <td>1914495.474</td>\n    </tr>\n    <tr>\n      <td>35</td>\n      <td>000001.SZ</td>\n      <td>20200102</td>\n      <td>16.65</td>\n      <td>16.95</td>\n      <td>16.55</td>\n      <td>16.87</td>\n      <td>16.45</td>\n      <td>0.42</td>\n      <td>2.5532</td>\n      <td>1530231.87</td>\n      <td>2571196.482</td>\n    </tr>\n  </tbody>\n</table>\n</div>"
     },
     "metadata": {},
     "output_type": "execute_result",
     "execution_count": 16
    }
   ],
   "source": [
    "df = pro.daily(ts_code='000001.SZ',\n",
    "               start_date='20200101', \n",
    "               end_date='20200301')\n",
    "df"
   ],
   "metadata": {
    "collapsed": false,
    "pycharm": {
     "name": "#%%\n",
     "is_executing": false
    }
   }
  },
  {
   "cell_type": "code",
   "execution_count": 17,
   "outputs": [
    {
     "data": {
      "text/plain": "0     14.85\n1     14.96\n2     14.77\n3     15.00\n4     15.46\n5     15.49\n6     15.27\n7     15.10\n8     15.33\n9     15.04\n10    14.75\n11    14.71\n12    14.79\n13    14.60\n14    14.51\n15    14.60\n16    14.81\n17    14.59\n18    14.05\n19    13.99\n20    15.92\n21    15.92\n22    16.34\n23    16.43\n24    16.38\n25    16.52\n26    16.79\n27    16.99\n28    16.75\n29    16.79\n30    16.81\n31    17.00\n32    17.13\n33    17.01\n34    16.94\n35    16.65\nName: open, dtype: float64"
     },
     "metadata": {},
     "output_type": "execute_result",
     "execution_count": 17
    }
   ],
   "source": [
    "X = df['open']\n",
    "X"
   ],
   "metadata": {
    "collapsed": false,
    "pycharm": {
     "name": "#%%\n",
     "is_executing": false
    }
   }
  },
  {
   "cell_type": "code",
   "execution_count": 19,
   "outputs": [
    {
     "data": {
      "text/plain": "[16.65,\n 16.94,\n 17.01,\n 17.13,\n 17.0,\n 16.81,\n 16.79,\n 16.75,\n 16.99,\n 16.79,\n 16.52,\n 16.38,\n 16.43,\n 16.34,\n 15.92,\n 15.92,\n 13.99,\n 14.05,\n 14.59,\n 14.81,\n 14.6,\n 14.51,\n 14.6,\n 14.79,\n 14.71,\n 14.75,\n 15.04,\n 15.33,\n 15.1,\n 15.27,\n 15.49,\n 15.46,\n 15.0,\n 14.77,\n 14.96,\n 14.85]"
     },
     "metadata": {},
     "output_type": "execute_result",
     "execution_count": 19
    }
   ],
   "source": [
    "tmp_list = []\n",
    "for dailyPrice in X:\n",
    "    tmp_list.append(float(dailyPrice))\n",
    "tmp_list.reverse()\n",
    "tmp_list"
   ],
   "metadata": {
    "collapsed": false,
    "pycharm": {
     "name": "#%%\n",
     "is_executing": false
    }
   }
  },
  {
   "cell_type": "code",
   "execution_count": 20,
   "outputs": [
    {
     "data": {
      "text/plain": "2310.7652100517016"
     },
     "metadata": {},
     "output_type": "execute_result",
     "execution_count": 20
    }
   ],
   "source": [
    "input_money = 1000\n",
    "total_nums = 0\n",
    "for day in range(len(tmp_list)):\n",
    "    total_nums += input_money/tmp_list[day]\n",
    "total_nums"
   ],
   "metadata": {
    "collapsed": false,
    "pycharm": {
     "name": "#%%\n",
     "is_executing": false
    }
   }
  },
  {
   "cell_type": "code",
   "execution_count": 23,
   "outputs": [
    {
     "data": {
      "text/plain": "14.5"
     },
     "metadata": {},
     "output_type": "execute_result",
     "execution_count": 23
    }
   ],
   "source": [
    "sold_price = df['close'][0]\n",
    "sold_price"
   ],
   "metadata": {
    "collapsed": false,
    "pycharm": {
     "name": "#%%\n",
     "is_executing": false
    }
   }
  },
  {
   "cell_type": "code",
   "execution_count": 25,
   "outputs": [
    {
     "name": "stdout",
     "text": [
      "在 36 天的投资中，总共盈利(负为亏损)额为 -2493.904454250325\n"
     ],
     "output_type": "stream"
    }
   ],
   "source": [
    "total_money = total_nums * sold_price\n",
    "total_input_money = input_money * len(tmp_list)\n",
    "print(\"在 {} 天的投资中，总共盈利(负为亏损)额为 {}\".format(len(tmp_list), (total_money-total_input_money)))"
   ],
   "metadata": {
    "collapsed": false,
    "pycharm": {
     "name": "#%%\n",
     "is_executing": false
    }
   }
  },
  {
   "cell_type": "code",
   "execution_count": null,
   "outputs": [],
   "source": [
    "\n"
   ],
   "metadata": {
    "collapsed": false,
    "pycharm": {
     "name": "#%%\n"
    }
   }
  }
 ],
 "metadata": {
  "kernelspec": {
   "display_name": "Python 3",
   "language": "python",
   "name": "python3"
  },
  "language_info": {
   "codemirror_mode": {
    "name": "ipython",
    "version": 2
   },
   "file_extension": ".py",
   "mimetype": "text/x-python",
   "name": "python",
   "nbconvert_exporter": "python",
   "pygments_lexer": "ipython2",
   "version": "2.7.6"
  },
  "pycharm": {
   "stem_cell": {
    "cell_type": "raw",
    "source": [],
    "metadata": {
     "collapsed": false
    }
   }
  }
 },
 "nbformat": 4,
 "nbformat_minor": 0
}