{
 "cells": [
  {
   "cell_type": "code",
   "execution_count": 1,
   "metadata": {
    "collapsed": true,
    "pycharm": {
     "is_executing": false
    }
   },
   "outputs": [],
   "source": [
    "import tushare as ts"
   ]
  },
  {
   "cell_type": "code",
   "execution_count": 16,
   "outputs": [],
   "source": [
    "pro = ts.pro_api('***')"
   ],
   "metadata": {
    "collapsed": false,
    "pycharm": {
     "name": "#%%\n",
     "is_executing": false
    }
   }
  },
  {
   "cell_type": "code",
   "execution_count": 17,
   "outputs": [
    {
     "data": {
      "text/plain": "      ts_code trade_date   open   high    low  close  pre_close  change  \\\n0   000066.SZ   20200228  14.40  14.98  13.99  13.99      15.54   -1.55   \n1   000066.SZ   20200227  16.41  16.52  15.02  15.54      16.26   -0.72   \n2   000066.SZ   20200226  15.80  17.09  15.70  16.26      16.25    0.01   \n3   000066.SZ   20200225  16.30  16.69  15.31  16.25      16.81   -0.56   \n4   000066.SZ   20200224  15.81  16.88  15.60  16.81      15.85    0.96   \n5   000066.SZ   20200221  15.25  16.26  15.25  15.85      15.27    0.58   \n6   000066.SZ   20200220  15.29  15.44  14.88  15.27      15.32   -0.05   \n7   000066.SZ   20200219  15.24  15.83  14.85  15.32      15.05    0.27   \n8   000066.SZ   20200218  14.48  15.25  14.37  15.05      14.48    0.57   \n9   000066.SZ   20200217  13.92  14.66  13.89  14.48      13.94    0.54   \n10  000066.SZ   20200214  13.90  14.36  13.81  13.94      14.03   -0.09   \n11  000066.SZ   20200213  13.83  14.46  13.83  14.03      13.88    0.15   \n12  000066.SZ   20200212  13.50  13.99  13.40  13.88      13.60    0.28   \n13  000066.SZ   20200211  13.61  13.90  13.50  13.60      13.57    0.03   \n14  000066.SZ   20200210  13.55  13.90  13.21  13.57      13.70   -0.13   \n15  000066.SZ   20200207  12.70  13.92  12.59  13.70      12.65    1.05   \n16  000066.SZ   20200206  12.33  12.73  12.29  12.65      12.30    0.35   \n17  000066.SZ   20200205  12.35  12.76  12.19  12.30      12.29    0.01   \n18  000066.SZ   20200204  11.48  12.55  11.48  12.29      12.76   -0.47   \n19  000066.SZ   20200203  12.76  12.76  12.76  12.76      14.18   -1.42   \n20  000066.SZ   20200123  14.75  15.12  13.93  14.18      15.01   -0.83   \n21  000066.SZ   20200122  15.12  15.21  14.10  15.01      15.31   -0.30   \n22  000066.SZ   20200121  15.77  15.95  15.30  15.31      15.92   -0.61   \n23  000066.SZ   20200120  15.97  16.03  15.60  15.92      15.96   -0.04   \n24  000066.SZ   20200117  16.28  16.37  15.90  15.96      16.32   -0.36   \n25  000066.SZ   20200116  16.03  16.65  15.92  16.32      15.95    0.37   \n26  000066.SZ   20200115  15.89  16.14  15.81  15.95      15.94    0.01   \n27  000066.SZ   20200114  16.15  16.25  15.76  15.94      16.19   -0.25   \n28  000066.SZ   20200113  15.70  16.21  15.55  16.19      15.70    0.49   \n29  000066.SZ   20200110  15.98  16.21  15.56  15.70      15.98   -0.28   \n30  000066.SZ   20200109  15.55  16.05  15.49  15.98      15.43    0.55   \n31  000066.SZ   20200108  15.86  15.92  15.40  15.43      16.03   -0.60   \n32  000066.SZ   20200107  15.68  16.14  15.58  16.03      15.66    0.37   \n33  000066.SZ   20200106  15.60  15.89  15.47  15.66      15.72   -0.06   \n34  000066.SZ   20200103  15.87  15.99  15.61  15.72      15.93   -0.21   \n35  000066.SZ   20200102  15.68  16.07  15.51  15.93      15.56    0.37   \n\n    pct_chg         vol       amount  \n0   -9.9743  1591192.31  2287284.353  \n1   -4.4280  1582583.44  2486998.307  \n2    0.0615  2122169.29  3525921.373  \n3   -3.3314  1885837.82  3055750.581  \n4    6.0568  1908035.67  3106469.503  \n5    3.7983  1943628.08  3093435.227  \n6   -0.3264  1350792.96  2044501.860  \n7    1.7940  1832233.08  2806966.275  \n8    3.9365  1425758.56  2124580.812  \n9    3.8737  1217171.03  1739863.495  \n10  -0.6415   967962.53  1360947.581  \n11   1.0807  1240929.56  1754396.450  \n12   2.0588  1059501.41  1455329.126  \n13   0.2211   879666.17  1202587.858  \n14  -0.9489  1205845.36  1630965.114  \n15   8.3004  1887768.16  2506595.140  \n16   2.8455  1076071.74  1349223.881  \n17   0.0814  1162828.87  1454572.877  \n18  -3.6834  1186378.54  1445045.390  \n19 -10.0141    57665.00    73580.540  \n20  -5.5296   839690.54  1210731.232  \n21  -1.9595   936292.31  1390315.726  \n22  -3.8317   767513.38  1195560.757  \n23  -0.2506   788707.14  1242251.410  \n24  -2.2059   812845.37  1304126.660  \n25   2.3197  1558810.57  2546357.449  \n26   0.0627   677144.58  1082893.786  \n27  -1.5442   761441.39  1214549.319  \n28   3.1210  1001925.89  1596743.354  \n29  -1.7522   726997.23  1151772.349  \n30   3.5645   986241.65  1564217.878  \n31  -3.7430   838582.03  1308191.620  \n32   2.3627   946534.20  1509160.132  \n33  -0.3817   524977.76   824826.944  \n34  -1.3183   526369.45   828173.322  \n35   2.3779   597838.65   949194.323  ",
      "text/html": "<div>\n<style scoped>\n    .dataframe tbody tr th:only-of-type {\n        vertical-align: middle;\n    }\n\n    .dataframe tbody tr th {\n        vertical-align: top;\n    }\n\n    .dataframe thead th {\n        text-align: right;\n    }\n</style>\n<table border=\"1\" class=\"dataframe\">\n  <thead>\n    <tr style=\"text-align: right;\">\n      <th></th>\n      <th>ts_code</th>\n      <th>trade_date</th>\n      <th>open</th>\n      <th>high</th>\n      <th>low</th>\n      <th>close</th>\n      <th>pre_close</th>\n      <th>change</th>\n      <th>pct_chg</th>\n      <th>vol</th>\n      <th>amount</th>\n    </tr>\n  </thead>\n  <tbody>\n    <tr>\n      <td>0</td>\n      <td>000066.SZ</td>\n      <td>20200228</td>\n      <td>14.40</td>\n      <td>14.98</td>\n      <td>13.99</td>\n      <td>13.99</td>\n      <td>15.54</td>\n      <td>-1.55</td>\n      <td>-9.9743</td>\n      <td>1591192.31</td>\n      <td>2287284.353</td>\n    </tr>\n    <tr>\n      <td>1</td>\n      <td>000066.SZ</td>\n      <td>20200227</td>\n      <td>16.41</td>\n      <td>16.52</td>\n      <td>15.02</td>\n      <td>15.54</td>\n      <td>16.26</td>\n      <td>-0.72</td>\n      <td>-4.4280</td>\n      <td>1582583.44</td>\n      <td>2486998.307</td>\n    </tr>\n    <tr>\n      <td>2</td>\n      <td>000066.SZ</td>\n      <td>20200226</td>\n      <td>15.80</td>\n      <td>17.09</td>\n      <td>15.70</td>\n      <td>16.26</td>\n      <td>16.25</td>\n      <td>0.01</td>\n      <td>0.0615</td>\n      <td>2122169.29</td>\n      <td>3525921.373</td>\n    </tr>\n    <tr>\n      <td>3</td>\n      <td>000066.SZ</td>\n      <td>20200225</td>\n      <td>16.30</td>\n      <td>16.69</td>\n      <td>15.31</td>\n      <td>16.25</td>\n      <td>16.81</td>\n      <td>-0.56</td>\n      <td>-3.3314</td>\n      <td>1885837.82</td>\n      <td>3055750.581</td>\n    </tr>\n    <tr>\n      <td>4</td>\n      <td>000066.SZ</td>\n      <td>20200224</td>\n      <td>15.81</td>\n      <td>16.88</td>\n      <td>15.60</td>\n      <td>16.81</td>\n      <td>15.85</td>\n      <td>0.96</td>\n      <td>6.0568</td>\n      <td>1908035.67</td>\n      <td>3106469.503</td>\n    </tr>\n    <tr>\n      <td>5</td>\n      <td>000066.SZ</td>\n      <td>20200221</td>\n      <td>15.25</td>\n      <td>16.26</td>\n      <td>15.25</td>\n      <td>15.85</td>\n      <td>15.27</td>\n      <td>0.58</td>\n      <td>3.7983</td>\n      <td>1943628.08</td>\n      <td>3093435.227</td>\n    </tr>\n    <tr>\n      <td>6</td>\n      <td>000066.SZ</td>\n      <td>20200220</td>\n      <td>15.29</td>\n      <td>15.44</td>\n      <td>14.88</td>\n      <td>15.27</td>\n      <td>15.32</td>\n      <td>-0.05</td>\n      <td>-0.3264</td>\n      <td>1350792.96</td>\n      <td>2044501.860</td>\n    </tr>\n    <tr>\n      <td>7</td>\n      <td>000066.SZ</td>\n      <td>20200219</td>\n      <td>15.24</td>\n      <td>15.83</td>\n      <td>14.85</td>\n      <td>15.32</td>\n      <td>15.05</td>\n      <td>0.27</td>\n      <td>1.7940</td>\n      <td>1832233.08</td>\n      <td>2806966.275</td>\n    </tr>\n    <tr>\n      <td>8</td>\n      <td>000066.SZ</td>\n      <td>20200218</td>\n      <td>14.48</td>\n      <td>15.25</td>\n      <td>14.37</td>\n      <td>15.05</td>\n      <td>14.48</td>\n      <td>0.57</td>\n      <td>3.9365</td>\n      <td>1425758.56</td>\n      <td>2124580.812</td>\n    </tr>\n    <tr>\n      <td>9</td>\n      <td>000066.SZ</td>\n      <td>20200217</td>\n      <td>13.92</td>\n      <td>14.66</td>\n      <td>13.89</td>\n      <td>14.48</td>\n      <td>13.94</td>\n      <td>0.54</td>\n      <td>3.8737</td>\n      <td>1217171.03</td>\n      <td>1739863.495</td>\n    </tr>\n    <tr>\n      <td>10</td>\n      <td>000066.SZ</td>\n      <td>20200214</td>\n      <td>13.90</td>\n      <td>14.36</td>\n      <td>13.81</td>\n      <td>13.94</td>\n      <td>14.03</td>\n      <td>-0.09</td>\n      <td>-0.6415</td>\n      <td>967962.53</td>\n      <td>1360947.581</td>\n    </tr>\n    <tr>\n      <td>11</td>\n      <td>000066.SZ</td>\n      <td>20200213</td>\n      <td>13.83</td>\n      <td>14.46</td>\n      <td>13.83</td>\n      <td>14.03</td>\n      <td>13.88</td>\n      <td>0.15</td>\n      <td>1.0807</td>\n      <td>1240929.56</td>\n      <td>1754396.450</td>\n    </tr>\n    <tr>\n      <td>12</td>\n      <td>000066.SZ</td>\n      <td>20200212</td>\n      <td>13.50</td>\n      <td>13.99</td>\n      <td>13.40</td>\n      <td>13.88</td>\n      <td>13.60</td>\n      <td>0.28</td>\n      <td>2.0588</td>\n      <td>1059501.41</td>\n      <td>1455329.126</td>\n    </tr>\n    <tr>\n      <td>13</td>\n      <td>000066.SZ</td>\n      <td>20200211</td>\n      <td>13.61</td>\n      <td>13.90</td>\n      <td>13.50</td>\n      <td>13.60</td>\n      <td>13.57</td>\n      <td>0.03</td>\n      <td>0.2211</td>\n      <td>879666.17</td>\n      <td>1202587.858</td>\n    </tr>\n    <tr>\n      <td>14</td>\n      <td>000066.SZ</td>\n      <td>20200210</td>\n      <td>13.55</td>\n      <td>13.90</td>\n      <td>13.21</td>\n      <td>13.57</td>\n      <td>13.70</td>\n      <td>-0.13</td>\n      <td>-0.9489</td>\n      <td>1205845.36</td>\n      <td>1630965.114</td>\n    </tr>\n    <tr>\n      <td>15</td>\n      <td>000066.SZ</td>\n      <td>20200207</td>\n      <td>12.70</td>\n      <td>13.92</td>\n      <td>12.59</td>\n      <td>13.70</td>\n      <td>12.65</td>\n      <td>1.05</td>\n      <td>8.3004</td>\n      <td>1887768.16</td>\n      <td>2506595.140</td>\n    </tr>\n    <tr>\n      <td>16</td>\n      <td>000066.SZ</td>\n      <td>20200206</td>\n      <td>12.33</td>\n      <td>12.73</td>\n      <td>12.29</td>\n      <td>12.65</td>\n      <td>12.30</td>\n      <td>0.35</td>\n      <td>2.8455</td>\n      <td>1076071.74</td>\n      <td>1349223.881</td>\n    </tr>\n    <tr>\n      <td>17</td>\n      <td>000066.SZ</td>\n      <td>20200205</td>\n      <td>12.35</td>\n      <td>12.76</td>\n      <td>12.19</td>\n      <td>12.30</td>\n      <td>12.29</td>\n      <td>0.01</td>\n      <td>0.0814</td>\n      <td>1162828.87</td>\n      <td>1454572.877</td>\n    </tr>\n    <tr>\n      <td>18</td>\n      <td>000066.SZ</td>\n      <td>20200204</td>\n      <td>11.48</td>\n      <td>12.55</td>\n      <td>11.48</td>\n      <td>12.29</td>\n      <td>12.76</td>\n      <td>-0.47</td>\n      <td>-3.6834</td>\n      <td>1186378.54</td>\n      <td>1445045.390</td>\n    </tr>\n    <tr>\n      <td>19</td>\n      <td>000066.SZ</td>\n      <td>20200203</td>\n      <td>12.76</td>\n      <td>12.76</td>\n      <td>12.76</td>\n      <td>12.76</td>\n      <td>14.18</td>\n      <td>-1.42</td>\n      <td>-10.0141</td>\n      <td>57665.00</td>\n      <td>73580.540</td>\n    </tr>\n    <tr>\n      <td>20</td>\n      <td>000066.SZ</td>\n      <td>20200123</td>\n      <td>14.75</td>\n      <td>15.12</td>\n      <td>13.93</td>\n      <td>14.18</td>\n      <td>15.01</td>\n      <td>-0.83</td>\n      <td>-5.5296</td>\n      <td>839690.54</td>\n      <td>1210731.232</td>\n    </tr>\n    <tr>\n      <td>21</td>\n      <td>000066.SZ</td>\n      <td>20200122</td>\n      <td>15.12</td>\n      <td>15.21</td>\n      <td>14.10</td>\n      <td>15.01</td>\n      <td>15.31</td>\n      <td>-0.30</td>\n      <td>-1.9595</td>\n      <td>936292.31</td>\n      <td>1390315.726</td>\n    </tr>\n    <tr>\n      <td>22</td>\n      <td>000066.SZ</td>\n      <td>20200121</td>\n      <td>15.77</td>\n      <td>15.95</td>\n      <td>15.30</td>\n      <td>15.31</td>\n      <td>15.92</td>\n      <td>-0.61</td>\n      <td>-3.8317</td>\n      <td>767513.38</td>\n      <td>1195560.757</td>\n    </tr>\n    <tr>\n      <td>23</td>\n      <td>000066.SZ</td>\n      <td>20200120</td>\n      <td>15.97</td>\n      <td>16.03</td>\n      <td>15.60</td>\n      <td>15.92</td>\n      <td>15.96</td>\n      <td>-0.04</td>\n      <td>-0.2506</td>\n      <td>788707.14</td>\n      <td>1242251.410</td>\n    </tr>\n    <tr>\n      <td>24</td>\n      <td>000066.SZ</td>\n      <td>20200117</td>\n      <td>16.28</td>\n      <td>16.37</td>\n      <td>15.90</td>\n      <td>15.96</td>\n      <td>16.32</td>\n      <td>-0.36</td>\n      <td>-2.2059</td>\n      <td>812845.37</td>\n      <td>1304126.660</td>\n    </tr>\n    <tr>\n      <td>25</td>\n      <td>000066.SZ</td>\n      <td>20200116</td>\n      <td>16.03</td>\n      <td>16.65</td>\n      <td>15.92</td>\n      <td>16.32</td>\n      <td>15.95</td>\n      <td>0.37</td>\n      <td>2.3197</td>\n      <td>1558810.57</td>\n      <td>2546357.449</td>\n    </tr>\n    <tr>\n      <td>26</td>\n      <td>000066.SZ</td>\n      <td>20200115</td>\n      <td>15.89</td>\n      <td>16.14</td>\n      <td>15.81</td>\n      <td>15.95</td>\n      <td>15.94</td>\n      <td>0.01</td>\n      <td>0.0627</td>\n      <td>677144.58</td>\n      <td>1082893.786</td>\n    </tr>\n    <tr>\n      <td>27</td>\n      <td>000066.SZ</td>\n      <td>20200114</td>\n      <td>16.15</td>\n      <td>16.25</td>\n      <td>15.76</td>\n      <td>15.94</td>\n      <td>16.19</td>\n      <td>-0.25</td>\n      <td>-1.5442</td>\n      <td>761441.39</td>\n      <td>1214549.319</td>\n    </tr>\n    <tr>\n      <td>28</td>\n      <td>000066.SZ</td>\n      <td>20200113</td>\n      <td>15.70</td>\n      <td>16.21</td>\n      <td>15.55</td>\n      <td>16.19</td>\n      <td>15.70</td>\n      <td>0.49</td>\n      <td>3.1210</td>\n      <td>1001925.89</td>\n      <td>1596743.354</td>\n    </tr>\n    <tr>\n      <td>29</td>\n      <td>000066.SZ</td>\n      <td>20200110</td>\n      <td>15.98</td>\n      <td>16.21</td>\n      <td>15.56</td>\n      <td>15.70</td>\n      <td>15.98</td>\n      <td>-0.28</td>\n      <td>-1.7522</td>\n      <td>726997.23</td>\n      <td>1151772.349</td>\n    </tr>\n    <tr>\n      <td>30</td>\n      <td>000066.SZ</td>\n      <td>20200109</td>\n      <td>15.55</td>\n      <td>16.05</td>\n      <td>15.49</td>\n      <td>15.98</td>\n      <td>15.43</td>\n      <td>0.55</td>\n      <td>3.5645</td>\n      <td>986241.65</td>\n      <td>1564217.878</td>\n    </tr>\n    <tr>\n      <td>31</td>\n      <td>000066.SZ</td>\n      <td>20200108</td>\n      <td>15.86</td>\n      <td>15.92</td>\n      <td>15.40</td>\n      <td>15.43</td>\n      <td>16.03</td>\n      <td>-0.60</td>\n      <td>-3.7430</td>\n      <td>838582.03</td>\n      <td>1308191.620</td>\n    </tr>\n    <tr>\n      <td>32</td>\n      <td>000066.SZ</td>\n      <td>20200107</td>\n      <td>15.68</td>\n      <td>16.14</td>\n      <td>15.58</td>\n      <td>16.03</td>\n      <td>15.66</td>\n      <td>0.37</td>\n      <td>2.3627</td>\n      <td>946534.20</td>\n      <td>1509160.132</td>\n    </tr>\n    <tr>\n      <td>33</td>\n      <td>000066.SZ</td>\n      <td>20200106</td>\n      <td>15.60</td>\n      <td>15.89</td>\n      <td>15.47</td>\n      <td>15.66</td>\n      <td>15.72</td>\n      <td>-0.06</td>\n      <td>-0.3817</td>\n      <td>524977.76</td>\n      <td>824826.944</td>\n    </tr>\n    <tr>\n      <td>34</td>\n      <td>000066.SZ</td>\n      <td>20200103</td>\n      <td>15.87</td>\n      <td>15.99</td>\n      <td>15.61</td>\n      <td>15.72</td>\n      <td>15.93</td>\n      <td>-0.21</td>\n      <td>-1.3183</td>\n      <td>526369.45</td>\n      <td>828173.322</td>\n    </tr>\n    <tr>\n      <td>35</td>\n      <td>000066.SZ</td>\n      <td>20200102</td>\n      <td>15.68</td>\n      <td>16.07</td>\n      <td>15.51</td>\n      <td>15.93</td>\n      <td>15.56</td>\n      <td>0.37</td>\n      <td>2.3779</td>\n      <td>597838.65</td>\n      <td>949194.323</td>\n    </tr>\n  </tbody>\n</table>\n</div>"
     },
     "metadata": {},
     "output_type": "execute_result",
     "execution_count": 17
    }
   ],
   "source": [
    "df = pro.daily(ts_code='000066.sz',\n",
    "               start_date='20200101', \n",
    "               end_date='20200301')\n",
    "df"
   ],
   "metadata": {
    "collapsed": false,
    "pycharm": {
     "name": "#%%\n",
     "is_executing": false
    }
   }
  },
  {
   "cell_type": "code",
   "execution_count": 18,
   "outputs": [
    {
     "data": {
      "text/plain": "0     14.40\n1     16.41\n2     15.80\n3     16.30\n4     15.81\n5     15.25\n6     15.29\n7     15.24\n8     14.48\n9     13.92\n10    13.90\n11    13.83\n12    13.50\n13    13.61\n14    13.55\n15    12.70\n16    12.33\n17    12.35\n18    11.48\n19    12.76\n20    14.75\n21    15.12\n22    15.77\n23    15.97\n24    16.28\n25    16.03\n26    15.89\n27    16.15\n28    15.70\n29    15.98\n30    15.55\n31    15.86\n32    15.68\n33    15.60\n34    15.87\n35    15.68\nName: open, dtype: float64"
     },
     "metadata": {},
     "output_type": "execute_result",
     "execution_count": 18
    }
   ],
   "source": [
    "X_open = df['open']\n",
    "X_open"
   ],
   "metadata": {
    "collapsed": false,
    "pycharm": {
     "name": "#%%\n",
     "is_executing": false
    }
   }
  },
  {
   "cell_type": "code",
   "execution_count": 19,
   "outputs": [
    {
     "data": {
      "text/plain": "0     13.99\n1     15.54\n2     16.26\n3     16.25\n4     16.81\n5     15.85\n6     15.27\n7     15.32\n8     15.05\n9     14.48\n10    13.94\n11    14.03\n12    13.88\n13    13.60\n14    13.57\n15    13.70\n16    12.65\n17    12.30\n18    12.29\n19    12.76\n20    14.18\n21    15.01\n22    15.31\n23    15.92\n24    15.96\n25    16.32\n26    15.95\n27    15.94\n28    16.19\n29    15.70\n30    15.98\n31    15.43\n32    16.03\n33    15.66\n34    15.72\n35    15.93\nName: close, dtype: float64"
     },
     "metadata": {},
     "output_type": "execute_result",
     "execution_count": 19
    }
   ],
   "source": [
    "X_close = df['close']\n",
    "X_close"
   ],
   "metadata": {
    "collapsed": false,
    "pycharm": {
     "name": "#%%\n",
     "is_executing": false
    }
   }
  },
  {
   "cell_type": "code",
   "execution_count": 20,
   "outputs": [
    {
     "data": {
      "text/plain": "[15.68,\n 15.87,\n 15.6,\n 15.68,\n 15.86,\n 15.55,\n 15.98,\n 15.7,\n 16.15,\n 15.89,\n 16.03,\n 16.28,\n 15.97,\n 15.77,\n 15.12,\n 14.75,\n 12.76,\n 11.48,\n 12.35,\n 12.33,\n 12.7,\n 13.55,\n 13.61,\n 13.5,\n 13.83,\n 13.9,\n 13.92,\n 14.48,\n 15.24,\n 15.29,\n 15.25,\n 15.81,\n 16.3,\n 15.8,\n 16.41,\n 14.4]"
     },
     "metadata": {},
     "output_type": "execute_result",
     "execution_count": 20
    }
   ],
   "source": [
    "open_list = []\n",
    "for dailyPrice in X_open:\n",
    "    open_list.append(float(dailyPrice))\n",
    "open_list.reverse()\n",
    "open_list"
   ],
   "metadata": {
    "collapsed": false,
    "pycharm": {
     "name": "#%%\n",
     "is_executing": false
    }
   }
  },
  {
   "cell_type": "code",
   "execution_count": 21,
   "outputs": [
    {
     "data": {
      "text/plain": "[15.93,\n 15.72,\n 15.66,\n 16.03,\n 15.43,\n 15.98,\n 15.7,\n 16.19,\n 15.94,\n 15.95,\n 16.32,\n 15.96,\n 15.92,\n 15.31,\n 15.01,\n 14.18,\n 12.76,\n 12.29,\n 12.3,\n 12.65,\n 13.7,\n 13.57,\n 13.6,\n 13.88,\n 14.03,\n 13.94,\n 14.48,\n 15.05,\n 15.32,\n 15.27,\n 15.85,\n 16.81,\n 16.25,\n 16.26,\n 15.54,\n 13.99]"
     },
     "metadata": {},
     "output_type": "execute_result",
     "execution_count": 21
    }
   ],
   "source": [
    "close_list = []\n",
    "for dailyPrice in X_close:\n",
    "    close_list.append(float(dailyPrice))\n",
    "close_list.reverse()\n",
    "close_list"
   ],
   "metadata": {
    "collapsed": false,
    "pycharm": {
     "name": "#%%\n",
     "is_executing": false
    }
   }
  },
  {
   "cell_type": "code",
   "execution_count": 23,
   "outputs": [
    {
     "name": "stdout",
     "text": [
      "今天不买，看看要不要卖\n",
      "再买一次\n",
      "小赚一笔，赶紧卖了\n",
      "今天不买，看看要不要卖\n",
      "小赚一笔，赶紧卖了\n",
      "今天不买，看看要不要卖\n",
      "再买一次\n",
      "小赚一笔，赶紧卖了\n",
      "今天不买，看看要不要卖\n",
      "再买一次\n",
      "小赚一笔，赶紧卖了\n",
      "今天不买，看看要不要卖\n",
      "再买一次\n",
      "小赚一笔，赶紧卖了\n",
      "今天不买，看看要不要卖\n",
      "小赚一笔，赶紧卖了\n",
      "今天不买，看看要不要卖\n",
      "再买一次\n",
      "再买一次\n",
      "再买一次\n",
      "再买一次\n",
      "再买一次\n",
      "再买一次\n",
      "小赚一笔，赶紧卖了\n",
      "今天不买，看看要不要卖\n",
      "再买一次\n",
      "小赚一笔，赶紧卖了\n",
      "今天不买，看看要不要卖\n",
      "小赚一笔，赶紧卖了\n",
      "今天不买，看看要不要卖\n",
      "小赚一笔，赶紧卖了\n",
      "今天不买，看看要不要卖\n",
      "再买一次\n",
      "小赚一笔，赶紧卖了\n",
      "今天不买，看看要不要卖\n",
      "小赚一笔，赶紧卖了\n",
      "今天不买，看看要不要卖\n",
      "小赚一笔，赶紧卖了\n",
      "今天不买，看看要不要卖\n",
      "小赚一笔，赶紧卖了\n",
      "今天不买，看看要不要卖\n",
      "小赚一笔，赶紧卖了\n",
      "今天不买，看看要不要卖\n",
      "小赚一笔，赶紧卖了\n",
      "今天不买，看看要不要卖\n",
      "再买一次\n",
      "小赚一笔，赶紧卖了\n",
      "今天不买，看看要不要卖\n",
      "小赚一笔，赶紧卖了\n",
      "今天不买，看看要不要卖\n",
      "再买一次\n",
      "小赚一笔，赶紧卖了\n",
      "今天不买，看看要不要卖\n",
      "再买一次\n"
     ],
     "output_type": "stream"
    },
    {
     "data": {
      "text/plain": "37128.23554580298"
     },
     "metadata": {},
     "output_type": "execute_result",
     "execution_count": 23
    }
   ],
   "source": [
    "output_money = 1000\n",
    "total_nums = 0\n",
    "input_money = 0\n",
    "for dayNum in range(len(open_list)):\n",
    "    if dayNum == 0:\n",
    "        total_nums += output_money/open_list[dayNum]\n",
    "    else:\n",
    "        if close_list[dayNum-1] > open_list[dayNum-1]:\n",
    "            print(\"今天不买，看看要不要卖\")\n",
    "            if close_list[dayNum] > open_list[dayNum]:\n",
    "                print(\"小赚一笔，赶紧卖了\")\n",
    "                input_money += total_nums * close_list[dayNum]\n",
    "                total_nums = 0\n",
    "        else:\n",
    "            print(\"再买一次\")\n",
    "            total_nums += output_money/open_list[dayNum]\n",
    "            if close_list[dayNum] > open_list[dayNum]:\n",
    "                print(\"小赚一笔，赶紧卖了\")\n",
    "                input_money += total_nums * close_list[dayNum]\n",
    "input_money"
   ],
   "metadata": {
    "collapsed": false,
    "pycharm": {
     "name": "#%%\n",
     "is_executing": false
    }
   }
  },
  {
   "cell_type": "code",
   "execution_count": 24,
   "outputs": [
    {
     "name": "stdout",
     "text": [
      "在 36 天的投资中，总共盈利(负为亏损)额为 1128.2355458029779\n"
     ],
     "output_type": "stream"
    }
   ],
   "source": [
    "total_money_out = output_money*len(open_list)\n",
    "print(\"在 {} 天的投资中，总共盈利(负为亏损)额为 {}\".format(len(open_list), (input_money-total_money_out)))\n"
   ],
   "metadata": {
    "collapsed": false,
    "pycharm": {
     "name": "#%%\n",
     "is_executing": false
    }
   }
  },
  {
   "cell_type": "code",
   "execution_count": null,
   "outputs": [],
   "source": [
    "\n"
   ],
   "metadata": {
    "collapsed": false,
    "pycharm": {
     "name": "#%%\n"
    }
   }
  }
 ],
 "metadata": {
  "kernelspec": {
   "display_name": "Python 3",
   "language": "python",
   "name": "python3"
  },
  "language_info": {
   "codemirror_mode": {
    "name": "ipython",
    "version": 2
   },
   "file_extension": ".py",
   "mimetype": "text/x-python",
   "name": "python",
   "nbconvert_exporter": "python",
   "pygments_lexer": "ipython2",
   "version": "2.7.6"
  },
  "pycharm": {
   "stem_cell": {
    "cell_type": "raw",
    "source": [],
    "metadata": {
     "collapsed": false
    }
   }
  }
 },
 "nbformat": 4,
 "nbformat_minor": 0
}