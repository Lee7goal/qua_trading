{
 "cells": [
  {
   "cell_type": "code",
   "execution_count": 24,
   "metadata": {
    "collapsed": true,
    "pycharm": {
     "is_executing": false
    }
   },
   "outputs": [],
   "source": [
    "import baostock as bs\n",
    "import pandas as pd"
   ]
  },
  {
   "cell_type": "code",
   "execution_count": 25,
   "outputs": [
    {
     "name": "stdout",
     "text": [
      "login success!\n",
      "login respond error_code:0\n",
      "login respond  error_msg:success\n"
     ],
     "output_type": "stream"
    }
   ],
   "source": [
    "#### 登陆系统 ####\n",
    "lg = bs.login()\n",
    "# 显示登陆返回信息\n",
    "print('login respond error_code:'+lg.error_code)\n",
    "print('login respond  error_msg:'+lg.error_msg)"
   ],
   "metadata": {
    "collapsed": false,
    "pycharm": {
     "name": "#%%\n",
     "is_executing": false
    }
   }
  },
  {
   "cell_type": "code",
   "execution_count": 26,
   "outputs": [
    {
     "name": "stdout",
     "text": [
      "query_history_k_data_plus respond error_code:0\n",
      "query_history_k_data_plus respond  error_msg:success\n"
     ],
     "output_type": "stream"
    }
   ],
   "source": [
    "#### 获取历史K线数据 ####\n",
    "# 详细指标参数，参见“历史行情指标参数”章节\n",
    "rs = bs.query_history_k_data_plus(\"sh.600000\",\n",
    "    \"date,code,open,high,low,close,preclose,volume,amount,adjustflag,turn,tradestatus,pctChg,peTTM,pbMRQ,psTTM,pcfNcfTTM,isST\",\n",
    "    start_date='2020-01-01', end_date='2020-03-01', \n",
    "    frequency=\"d\", adjustflag=\"3\") #frequency=\"d\"取日k线，adjustflag=\"3\"默认不复权\n",
    "print('query_history_k_data_plus respond error_code:'+rs.error_code)\n",
    "print('query_history_k_data_plus respond  error_msg:'+rs.error_msg)"
   ],
   "metadata": {
    "collapsed": false,
    "pycharm": {
     "name": "#%%\n",
     "is_executing": false
    }
   }
  },
  {
   "cell_type": "code",
   "execution_count": 27,
   "outputs": [
    {
     "name": "stdout",
     "text": [
      "          date       code     open     high      low    close preclose  \\\n",
      "0   2020-01-02  sh.600000  12.4700  12.6400  12.4500  12.4700  12.3700   \n",
      "1   2020-01-03  sh.600000  12.5700  12.6300  12.4700  12.6000  12.4700   \n",
      "2   2020-01-06  sh.600000  12.5200  12.6500  12.4200  12.4600  12.6000   \n",
      "3   2020-01-07  sh.600000  12.5100  12.6000  12.4600  12.5000  12.4600   \n",
      "4   2020-01-08  sh.600000  12.4100  12.4500  12.2500  12.3200  12.5000   \n",
      "5   2020-01-09  sh.600000  12.3900  12.4300  12.3500  12.3700  12.3200   \n",
      "6   2020-01-10  sh.600000  12.3700  12.4200  12.3100  12.3900  12.3700   \n",
      "7   2020-01-13  sh.600000  12.4000  12.4100  12.3100  12.4100  12.3900   \n",
      "8   2020-01-14  sh.600000  12.4000  12.6900  12.3900  12.4300  12.4100   \n",
      "9   2020-01-15  sh.600000  12.4100  12.4500  12.2500  12.2500  12.4300   \n",
      "10  2020-01-16  sh.600000  12.2800  12.3100  12.1600  12.2000  12.2500   \n",
      "11  2020-01-17  sh.600000  12.2200  12.2900  12.1600  12.2300  12.2000   \n",
      "12  2020-01-20  sh.600000  12.2600  12.2700  12.1900  12.2500  12.2300   \n",
      "13  2020-01-21  sh.600000  12.2000  12.2500  12.0400  12.0800  12.2500   \n",
      "14  2020-01-22  sh.600000  11.7000  11.8400  11.6500  11.7700  12.0800   \n",
      "15  2020-01-23  sh.600000  11.7500  11.7500  11.3200  11.3500  11.7700   \n",
      "16  2020-02-03  sh.600000  10.2200  10.6900  10.2200  10.4700  11.3500   \n",
      "17  2020-02-04  sh.600000  10.5100  10.7400  10.4800  10.6600  10.4700   \n",
      "18  2020-02-05  sh.600000  10.6900  10.7800  10.5800  10.7000  10.6600   \n",
      "19  2020-02-06  sh.600000  10.8100  10.8600  10.6500  10.7900  10.7000   \n",
      "20  2020-02-07  sh.600000  10.7300  10.9100  10.6700  10.8600  10.7900   \n",
      "21  2020-02-10  sh.600000  10.7600  10.8400  10.7100  10.7700  10.8600   \n",
      "22  2020-02-11  sh.600000  10.8200  10.9500  10.7800  10.8600  10.7700   \n",
      "23  2020-02-12  sh.600000  10.8400  10.8800  10.7600  10.8600  10.8600   \n",
      "24  2020-02-13  sh.600000  10.8200  10.8800  10.7600  10.7600  10.8600   \n",
      "25  2020-02-14  sh.600000  10.7600  10.8800  10.7400  10.8600  10.7600   \n",
      "26  2020-02-17  sh.600000  10.8800  11.2100  10.8600  11.1800  10.8600   \n",
      "27  2020-02-18  sh.600000  11.0900  11.1800  11.0400  11.0600  11.1800   \n",
      "28  2020-02-19  sh.600000  11.0800  11.2400  11.0400  11.1100  11.0600   \n",
      "29  2020-02-20  sh.600000  11.1700  11.2700  11.0600  11.2300  11.1100   \n",
      "30  2020-02-21  sh.600000  11.2300  11.3900  11.2100  11.3000  11.2300   \n",
      "31  2020-02-24  sh.600000  11.2300  11.3400  11.1000  11.1600  11.3000   \n",
      "32  2020-02-25  sh.600000  11.0700  11.1500  11.0100  11.0900  11.1600   \n",
      "33  2020-02-26  sh.600000  11.0100  11.3300  11.0100  11.2000  11.0900   \n",
      "34  2020-02-27  sh.600000  11.2000  11.3000  11.1300  11.2100  11.2000   \n",
      "35  2020-02-28  sh.600000  11.1100  11.1800  10.8500  10.8500  11.2100   \n",
      "\n",
      "      volume          amount adjustflag      turn tradestatus     pctChg  \\\n",
      "0   51629079  647446166.0000          3  0.183700           1   0.808400   \n",
      "1   38018810  477053357.0000          3  0.135300           1   1.042500   \n",
      "2   41001193  514432551.0000          3  0.145900           1  -1.111100   \n",
      "3   28421482  355811756.0000          3  0.101100           1   0.321000   \n",
      "4   35240536  434980266.0000          3  0.125400           1  -1.440000   \n",
      "5   26151448  324168061.0000          3  0.093100           1   0.405800   \n",
      "6   18321252  226580302.0000          3  0.065200           1   0.161700   \n",
      "7   20715566  255982380.0000          3  0.073700           1   0.161400   \n",
      "8   29994561  374971640.0000          3  0.106700           1   0.161200   \n",
      "9   31897217  392531149.0000          3  0.113500           1  -1.448100   \n",
      "10  22454876  274130148.0000          3  0.079900           1  -0.408200   \n",
      "11  17593111  215028083.0000          3  0.062600           1   0.245900   \n",
      "12  23734609  290296136.0000          3  0.084500           1   0.163500   \n",
      "13  31787474  384580844.0000          3  0.113100           1  -1.387800   \n",
      "14  78133556  917203481.0000          3  0.278000           1  -2.566200   \n",
      "15  76534796  879151046.0000          3  0.272300           1  -3.568400   \n",
      "16  95367382  997686058.0000          3  0.339300           1  -7.753300   \n",
      "17  66783767  710434836.0000          3  0.237600           1   1.814700   \n",
      "18  45046658  481639081.0000          3  0.160300           1   0.375200   \n",
      "19  38023801  408101901.0000          3  0.135300           1   0.841100   \n",
      "20  31896956  342581621.0000          3  0.113500           1   0.648700   \n",
      "21  34032121  366391170.0000          3  0.121100           1  -0.828700   \n",
      "22  34856302  378583345.0000          3  0.124000           1   0.835600   \n",
      "23  26313927  284693716.0000          3  0.093600           1   0.000000   \n",
      "24  22630613  244794981.0000          3  0.080500           1  -0.920800   \n",
      "25  22360549  242102421.0000          3  0.079600           1   0.929400   \n",
      "26  41343320  457641227.0000          3  0.147100           1   2.946600   \n",
      "27  30162703  334474238.0000          3  0.107300           1  -1.073300   \n",
      "28  25100157  279375283.0000          3  0.089300           1   0.452100   \n",
      "29  36656416  408938116.0000          3  0.130400           1   1.080100   \n",
      "30  38949418  439706991.0000          3  0.138600           1   0.623300   \n",
      "31  44738622  501186013.0000          3  0.159200           1  -1.238900   \n",
      "32  48324564  535241824.0000          3  0.172000           1  -0.627200   \n",
      "33  51906287  581437742.0000          3  0.184700           1   0.991900   \n",
      "34  33029824  370549707.0000          3  0.117500           1   0.089300   \n",
      "35  50137988  550529618.0000          3  0.178400           1  -3.211400   \n",
      "\n",
      "       peTTM     pbMRQ     psTTM  pcfNcfTTM isST  \n",
      "0   5.994733  0.762284  1.915555  -6.071904    0  \n",
      "1   6.057229  0.770231  1.935525  -6.135204    0  \n",
      "2   5.989926  0.761672  1.914019  -6.067035    0  \n",
      "3   6.009155  0.764118  1.920164  -6.086512    0  \n",
      "4   5.922624  0.753114  1.892513  -5.998866    0  \n",
      "5   5.946660  0.756171  1.900194  -6.023212    0  \n",
      "6   5.956275  0.757393  1.903266  -6.032950    0  \n",
      "7   5.965890  0.758616  1.906338  -6.042689    0  \n",
      "8   5.975504  0.759839  1.909411  -6.052427    0  \n",
      "9   5.888972  0.748835  1.881760  -5.964781    0  \n",
      "10  5.864936  0.745779  1.874080  -5.940435    0  \n",
      "11  5.879358  0.747613  1.878688  -5.955043    0  \n",
      "12  5.888972  0.748835  1.881760  -5.964781    0  \n",
      "13  5.807248  0.738443  1.855646  -5.882005    0  \n",
      "14  5.864338  0.719493  1.811724  -5.731059    0  \n",
      "15  5.655075  0.693819  1.747074  -5.526553    0  \n",
      "16  5.216620  0.640025  1.611618  -5.098062    0  \n",
      "17  5.311286  0.651640  1.640865  -5.190577    0  \n",
      "18  5.331216  0.654085  1.647022  -5.210054    0  \n",
      "19  5.376058  0.659586  1.660875  -5.253877    0  \n",
      "20  5.410935  0.663865  1.671650  -5.287961    0  \n",
      "21  5.366093  0.658364  1.657797  -5.244138    0  \n",
      "22  5.410935  0.663865  1.671650  -5.287961    0  \n",
      "23  5.410935  0.663865  1.671650  -5.287961    0  \n",
      "24  5.361111  0.657752  1.656257  -5.239269    0  \n",
      "25  5.410935  0.663865  1.671650  -5.287961    0  \n",
      "26  5.570373  0.683427  1.720907  -5.443776    0  \n",
      "27  5.510584  0.676091  1.702435  -5.385345    0  \n",
      "28  5.510584  0.676091  1.702435  -5.385345    0  \n",
      "29  5.595285  0.686483  1.728603  -5.468122    0  \n",
      "30  5.630163  0.690762  1.739378  -5.502206    0  \n",
      "31  5.560408  0.682204  1.717828  -5.434038    0  \n",
      "32  5.525531  0.677925  1.707053  -5.399953    0  \n",
      "33  5.580338  0.684649  1.723985  -5.453514    0  \n",
      "34  5.585321  0.685261  1.725525  -5.458384    0  \n",
      "35  5.405953  0.663254  1.670111  -5.283092    0  \n"
     ],
     "output_type": "stream"
    }
   ],
   "source": [
    "#### 打印结果集 ####\n",
    "data_list = []\n",
    "while (rs.error_code == '0') & rs.next():\n",
    "    # 获取一条记录，将记录合并在一起\n",
    "    data_list.append(rs.get_row_data())\n",
    "result = pd.DataFrame(data_list, columns=rs.fields)\n",
    "#### 结果集输出到csv文件 ####\n",
    "# result.to_csv(\"D:/history_k_data.csv\", encoding=\"gbk\", index=False)\n",
    "print(result)"
   ],
   "metadata": {
    "collapsed": false,
    "pycharm": {
     "name": "#%%\n",
     "is_executing": false
    }
   }
  },
  {
   "cell_type": "code",
   "execution_count": 31,
   "outputs": [
    {
     "data": {
      "text/plain": "0     2020-01-02\n1     2020-01-03\n2     2020-01-06\n3     2020-01-07\n4     2020-01-08\n5     2020-01-09\n6     2020-01-10\n7     2020-01-13\n8     2020-01-14\n9     2020-01-15\n10    2020-01-16\n11    2020-01-17\n12    2020-01-20\n13    2020-01-21\n14    2020-01-22\n15    2020-01-23\n16    2020-02-03\n17    2020-02-04\n18    2020-02-05\n19    2020-02-06\n20    2020-02-07\n21    2020-02-10\n22    2020-02-11\n23    2020-02-12\n24    2020-02-13\n25    2020-02-14\n26    2020-02-17\n27    2020-02-18\n28    2020-02-19\n29    2020-02-20\n30    2020-02-21\n31    2020-02-24\n32    2020-02-25\n33    2020-02-26\n34    2020-02-27\n35    2020-02-28\nName: date, dtype: object"
     },
     "metadata": {},
     "output_type": "execute_result",
     "execution_count": 31
    }
   ],
   "source": [
    "import matplotlib.pyplot as plt\n",
    "X = result['date']\n",
    "X"
   ],
   "metadata": {
    "collapsed": false,
    "pycharm": {
     "name": "#%%\n",
     "is_executing": false
    }
   }
  },
  {
   "cell_type": "code",
   "execution_count": 29,
   "outputs": [
    {
     "data": {
      "text/plain": "0     2020-01-02\n1     2020-01-03\n2     2020-01-06\n3     2020-01-07\n4     2020-01-08\n5     2020-01-09\n6     2020-01-10\n7     2020-01-13\n8     2020-01-14\n9     2020-01-15\n10    2020-01-16\n11    2020-01-17\n12    2020-01-20\n13    2020-01-21\n14    2020-01-22\n15    2020-01-23\n16    2020-02-03\n17    2020-02-04\n18    2020-02-05\n19    2020-02-06\n20    2020-02-07\n21    2020-02-10\n22    2020-02-11\n23    2020-02-12\n24    2020-02-13\n25    2020-02-14\n26    2020-02-17\n27    2020-02-18\n28    2020-02-19\n29    2020-02-20\n30    2020-02-21\n31    2020-02-24\n32    2020-02-25\n33    2020-02-26\n34    2020-02-27\n35    2020-02-28\nName: date, dtype: object"
     },
     "metadata": {},
     "output_type": "execute_result",
     "execution_count": 29
    }
   ],
   "source": [],
   "metadata": {
    "collapsed": false,
    "pycharm": {
     "name": "#%%X\n",
     "is_executing": false
    }
   }
  },
  {
   "cell_type": "code",
   "execution_count": 36,
   "outputs": [],
   "source": [
    "valueList = []\n",
    "for day in range(len(result['close'])):\n",
    "    valueList.append(float(result['close'][day])-float(result['open'][day]))\n",
    "y = valueList"
   ],
   "metadata": {
    "collapsed": false,
    "pycharm": {
     "name": "#%%\n",
     "is_executing": false
    }
   }
  },
  {
   "cell_type": "code",
   "execution_count": 37,
   "outputs": [
    {
     "data": {
      "text/plain": "<Figure size 432x288 with 1 Axes>",
      "image/png": "[encoded data removed]"
     },
     "metadata": {
      "needs_background": "light"
     },
     "output_type": "display_data"
    }
   ],
   "source": [
    "plt.bar(X, y)\n",
    "plt.show()"
   ],
   "metadata": {
    "collapsed": false,
    "pycharm": {
     "name": "#%%\n",
     "is_executing": false
    }
   }
  },
  {
   "cell_type": "code",
   "execution_count": 38,
   "outputs": [
    {
     "data": {
      "text/plain": "0.16999999999999638"
     },
     "metadata": {},
     "output_type": "execute_result",
     "execution_count": 38
    }
   ],
   "source": [
    "res = 0\n",
    "for i in y:\n",
    "    res += i\n",
    "res"
   ],
   "metadata": {
    "collapsed": false,
    "pycharm": {
     "name": "#%%\n",
     "is_executing": false
    }
   }
  },
  {
   "cell_type": "code",
   "execution_count": null,
   "outputs": [],
   "source": [
    "\n"
   ],
   "metadata": {
    "collapsed": false,
    "pycharm": {
     "name": "#%%\n"
    }
   }
  }
 ],
 "metadata": {
  "kernelspec": {
   "display_name": "Python 3",
   "language": "python",
   "name": "python3"
  },
  "language_info": {
   "codemirror_mode": {
    "name": "ipython",
    "version": 2
   },
   "file_extension": ".py",
   "mimetype": "text/x-python",
   "name": "python",
   "nbconvert_exporter": "python",
   "pygments_lexer": "ipython2",
   "version": "2.7.6"
  },
  "pycharm": {
   "stem_cell": {
    "cell_type": "raw",
    "source": [],
    "metadata": {
     "collapsed": false
    }
   }
  }
 },
 "nbformat": 4,
 "nbformat_minor": 0
}